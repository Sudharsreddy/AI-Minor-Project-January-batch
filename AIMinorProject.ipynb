{
  "nbformat": 4,
  "nbformat_minor": 0,
  "metadata": {
    "colab": {
      "provenance": []
    },
    "kernelspec": {
      "name": "python3",
      "display_name": "Python 3"
    },
    "language_info": {
      "name": "python"
    }
  },
  "cells": [
    {
      "cell_type": "code",
      "execution_count": 9,
      "metadata": {
        "colab": {
          "base_uri": "https://localhost:8080/"
        },
        "id": "zrs2TX9IWhlV",
        "outputId": "10095a9b-2ddb-4db4-fdae-c1fd06923376"
      },
      "outputs": [
        {
          "output_type": "stream",
          "name": "stdout",
          "text": [
            "Enter the time for which you need the timer to countdown : 10\n",
            "00:10\n",
            "00:09\n",
            "00:08\n",
            "00:07\n",
            "00:06\n",
            "00:05\n",
            "00:04\n",
            "00:03\n",
            "00:02\n",
            "00:01\n",
            "Time is up !!!\n"
          ]
        }
      ],
      "source": [
        "#importing the time module which is used to do some in-built functions related to time\n",
        "import time\n",
        "\n",
        "\n",
        "def countdowntimer(reqtime):\n",
        "  while reqtime:\n",
        "    minutes,seconds=divmod(reqtime,60)\n",
        "    timer='{:02d}:{:02d}'.format(minutes,seconds)\n",
        "    print(timer, end='\\r')\n",
        "    print(timer)\n",
        "    time.sleep(1)\n",
        "    reqtime -=1\n",
        "  print(\"Time is up !!!\")\n",
        "\n",
        "reqtime=input(\"Enter the time for which you need the timer to countdown : \")\n",
        "countdowntimer(int(reqtime))"
      ]
    }
  ]
}